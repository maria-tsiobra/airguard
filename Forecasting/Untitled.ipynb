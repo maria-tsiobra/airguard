{
 "cells": [
  {
   "cell_type": "code",
   "execution_count": 1,
   "id": "93df001e",
   "metadata": {},
   "outputs": [
    {
     "name": "stdout",
     "output_type": "stream",
     "text": [
      "Requirement already satisfied: nbconvert[webpdf] in /opt/anaconda3/lib/python3.8/site-packages (7.4.0)\n",
      "Requirement already satisfied: markupsafe>=2.0 in /opt/anaconda3/lib/python3.8/site-packages (from nbconvert[webpdf]) (2.0.1)\n",
      "Requirement already satisfied: bleach in /opt/anaconda3/lib/python3.8/site-packages (from nbconvert[webpdf]) (3.3.0)\n",
      "Requirement already satisfied: jupyterlab-pygments in /opt/anaconda3/lib/python3.8/site-packages (from nbconvert[webpdf]) (0.2.2)\n",
      "Requirement already satisfied: jupyter-core>=4.7 in /opt/anaconda3/lib/python3.8/site-packages (from nbconvert[webpdf]) (5.3.0)\n",
      "Requirement already satisfied: nbclient>=0.5.0 in /opt/anaconda3/lib/python3.8/site-packages (from nbconvert[webpdf]) (0.5.3)\n",
      "Requirement already satisfied: pygments>=2.4.1 in /opt/anaconda3/lib/python3.8/site-packages (from nbconvert[webpdf]) (2.15.1)\n",
      "Requirement already satisfied: traitlets>=5.0 in /opt/anaconda3/lib/python3.8/site-packages (from nbconvert[webpdf]) (5.9.0)\n",
      "Requirement already satisfied: pandocfilters>=1.4.1 in /opt/anaconda3/lib/python3.8/site-packages (from nbconvert[webpdf]) (1.4.3)\n",
      "Requirement already satisfied: tinycss2 in /opt/anaconda3/lib/python3.8/site-packages (from nbconvert[webpdf]) (1.2.1)\n",
      "Requirement already satisfied: mistune<3,>=2.0.3 in /opt/anaconda3/lib/python3.8/site-packages (from nbconvert[webpdf]) (2.0.5)\n",
      "Requirement already satisfied: importlib-metadata>=3.6 in /opt/anaconda3/lib/python3.8/site-packages (from nbconvert[webpdf]) (4.11.3)\n",
      "Requirement already satisfied: nbformat>=5.1 in /opt/anaconda3/lib/python3.8/site-packages (from nbconvert[webpdf]) (5.8.0)\n",
      "Requirement already satisfied: jinja2>=3.0 in /opt/anaconda3/lib/python3.8/site-packages (from nbconvert[webpdf]) (3.1.2)\n",
      "Requirement already satisfied: beautifulsoup4 in /opt/anaconda3/lib/python3.8/site-packages (from nbconvert[webpdf]) (4.9.3)\n",
      "Requirement already satisfied: packaging in /opt/anaconda3/lib/python3.8/site-packages (from nbconvert[webpdf]) (21.3)\n",
      "Requirement already satisfied: defusedxml in /opt/anaconda3/lib/python3.8/site-packages (from nbconvert[webpdf]) (0.7.1)\n",
      "Collecting pyppeteer<1.1,>=1\n",
      "  Downloading pyppeteer-1.0.2-py3-none-any.whl (83 kB)\n",
      "     |████████████████████████████████| 83 kB 1.1 MB/s            \n",
      "\u001b[?25hRequirement already satisfied: zipp>=0.5 in /opt/anaconda3/lib/python3.8/site-packages (from importlib-metadata>=3.6->nbconvert[webpdf]) (3.4.1)\n",
      "Requirement already satisfied: platformdirs>=2.5 in /opt/anaconda3/lib/python3.8/site-packages (from jupyter-core>=4.7->nbconvert[webpdf]) (3.5.1)\n",
      "Requirement already satisfied: jupyter-client>=6.1.5 in /opt/anaconda3/lib/python3.8/site-packages (from nbclient>=0.5.0->nbconvert[webpdf]) (8.2.0)\n",
      "Requirement already satisfied: nest-asyncio in /opt/anaconda3/lib/python3.8/site-packages (from nbclient>=0.5.0->nbconvert[webpdf]) (1.5.1)\n",
      "Requirement already satisfied: async-generator in /opt/anaconda3/lib/python3.8/site-packages (from nbclient>=0.5.0->nbconvert[webpdf]) (1.10)\n",
      "Requirement already satisfied: jsonschema>=2.6 in /opt/anaconda3/lib/python3.8/site-packages (from nbformat>=5.1->nbconvert[webpdf]) (4.17.3)\n",
      "Requirement already satisfied: fastjsonschema in /opt/anaconda3/lib/python3.8/site-packages (from nbformat>=5.1->nbconvert[webpdf]) (2.17.1)\n",
      "Collecting websockets<11.0,>=10.0\n",
      "  Downloading websockets-10.4-cp38-cp38-macosx_10_9_x86_64.whl (97 kB)\n",
      "     |████████████████████████████████| 97 kB 3.7 MB/s            \n",
      "\u001b[?25hRequirement already satisfied: urllib3<2.0.0,>=1.25.8 in /opt/anaconda3/lib/python3.8/site-packages (from pyppeteer<1.1,>=1->nbconvert[webpdf]) (1.26.4)\n",
      "Requirement already satisfied: appdirs<2.0.0,>=1.4.3 in /opt/anaconda3/lib/python3.8/site-packages (from pyppeteer<1.1,>=1->nbconvert[webpdf]) (1.4.4)\n",
      "Collecting pyee<9.0.0,>=8.1.0\n",
      "  Downloading pyee-8.2.2-py2.py3-none-any.whl (12 kB)\n",
      "Requirement already satisfied: tqdm<5.0.0,>=4.42.1 in /opt/anaconda3/lib/python3.8/site-packages (from pyppeteer<1.1,>=1->nbconvert[webpdf]) (4.59.0)\n",
      "Collecting certifi>=2021\n",
      "  Using cached certifi-2023.5.7-py3-none-any.whl (156 kB)\n",
      "Requirement already satisfied: soupsieve>1.2 in /opt/anaconda3/lib/python3.8/site-packages (from beautifulsoup4->nbconvert[webpdf]) (2.2.1)\n",
      "Requirement already satisfied: six>=1.9.0 in /opt/anaconda3/lib/python3.8/site-packages (from bleach->nbconvert[webpdf]) (1.15.0)\n",
      "Requirement already satisfied: webencodings in /opt/anaconda3/lib/python3.8/site-packages (from bleach->nbconvert[webpdf]) (0.5.1)\n",
      "Requirement already satisfied: pyparsing!=3.0.5,>=2.0.2 in /opt/anaconda3/lib/python3.8/site-packages (from packaging->nbconvert[webpdf]) (2.4.7)\n",
      "Requirement already satisfied: importlib-resources>=1.4.0 in /opt/anaconda3/lib/python3.8/site-packages (from jsonschema>=2.6->nbformat>=5.1->nbconvert[webpdf]) (5.7.1)\n",
      "Requirement already satisfied: attrs>=17.4.0 in /opt/anaconda3/lib/python3.8/site-packages (from jsonschema>=2.6->nbformat>=5.1->nbconvert[webpdf]) (20.3.0)\n",
      "Requirement already satisfied: pkgutil-resolve-name>=1.3.10 in /opt/anaconda3/lib/python3.8/site-packages (from jsonschema>=2.6->nbformat>=5.1->nbconvert[webpdf]) (1.3.10)\n",
      "Requirement already satisfied: pyrsistent!=0.17.0,!=0.17.1,!=0.17.2,>=0.14.0 in /opt/anaconda3/lib/python3.8/site-packages (from jsonschema>=2.6->nbformat>=5.1->nbconvert[webpdf]) (0.17.3)\n",
      "Requirement already satisfied: tornado>=6.2 in /opt/anaconda3/lib/python3.8/site-packages (from jupyter-client>=6.1.5->nbclient>=0.5.0->nbconvert[webpdf]) (6.3.2)\n",
      "Requirement already satisfied: pyzmq>=23.0 in /opt/anaconda3/lib/python3.8/site-packages (from jupyter-client>=6.1.5->nbclient>=0.5.0->nbconvert[webpdf]) (25.0.2)\n",
      "Requirement already satisfied: python-dateutil>=2.8.2 in /opt/anaconda3/lib/python3.8/site-packages (from jupyter-client>=6.1.5->nbclient>=0.5.0->nbconvert[webpdf]) (2.8.2)\n",
      "Installing collected packages: websockets, pyee, certifi, pyppeteer\n",
      "  Attempting uninstall: certifi\n",
      "    Found existing installation: certifi 2020.12.5\n",
      "    Uninstalling certifi-2020.12.5:\n",
      "      Successfully uninstalled certifi-2020.12.5\n",
      "\u001b[31mERROR: pip's dependency resolver does not currently take into account all the packages that are installed. This behaviour is the source of the following dependency conflicts.\n",
      "conda-repo-cli 1.0.4 requires pathlib, which is not installed.\n",
      "anaconda-project 0.9.1 requires ruamel-yaml, which is not installed.\u001b[0m\n",
      "Successfully installed certifi-2023.5.7 pyee-8.2.2 pyppeteer-1.0.2 websockets-10.4\n",
      "\u001b[33mWARNING: You are using pip version 21.3.1; however, version 23.1.2 is available.\n",
      "You should consider upgrading via the '/opt/anaconda3/bin/python -m pip install --upgrade pip' command.\u001b[0m\n"
     ]
    }
   ],
   "source": [
    "! pip install nbconvert[webpdf]"
   ]
  },
  {
   "cell_type": "code",
   "execution_count": null,
   "id": "f34fa05c",
   "metadata": {},
   "outputs": [],
   "source": []
  }
 ],
 "metadata": {
  "kernelspec": {
   "display_name": "Python 3",
   "language": "python",
   "name": "python3"
  },
  "language_info": {
   "codemirror_mode": {
    "name": "ipython",
    "version": 3
   },
   "file_extension": ".py",
   "mimetype": "text/x-python",
   "name": "python",
   "nbconvert_exporter": "python",
   "pygments_lexer": "ipython3",
   "version": "3.8.8"
  }
 },
 "nbformat": 4,
 "nbformat_minor": 5
}
