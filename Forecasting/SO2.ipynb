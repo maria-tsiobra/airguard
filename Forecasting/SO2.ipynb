{
 "cells": [
  {
   "cell_type": "code",
   "execution_count": 1,
   "id": "3d24b196",
   "metadata": {},
   "outputs": [],
   "source": [
    "#Import necessary libraries\n",
    "\n",
    "import pandas as pd\n",
    "import numpy as np\n",
    "import matplotlib.pyplot as plt\n",
    "import seaborn as sns\n",
    "import xgboost as xgb\n",
    "from sklearn.metrics import mean_squared_error\n",
    "from sklearn.metrics import mean_squared_error\n",
    "from sklearn.metrics import mean_absolute_percentage_error\n",
    "from sklearn.metrics import mean_absolute_error\n",
    "import shap\n",
    "from sklearn.model_selection import GridSearchCV"
   ]
  },
  {
   "cell_type": "code",
   "execution_count": 2,
   "id": "f437657e",
   "metadata": {},
   "outputs": [],
   "source": [
    "import pickle5 as pickle\n",
    "import os"
   ]
  },
  {
   "cell_type": "code",
   "execution_count": 3,
   "id": "55ca4326",
   "metadata": {},
   "outputs": [],
   "source": [
    "#Creating Fucntion for adding new features seq hour, day, month, weekday, year, weekend, day/night\n",
    "def Create_Features(data):\n",
    "  data['seg_hour']=data['DatetimeEnd'].dt.hour\n",
    "  data['day']=data['DatetimeEnd'].dt.day\n",
    "  data['month']=data['DatetimeEnd'].dt.month\n",
    "  data['weekday']=data['DatetimeEnd'].dt.weekday\n",
    "  data['year']=data['DatetimeEnd'].dt.year\n",
    "  data['weekend']=[1 if data['weekday'][i] in [5,6] else 0 for i in range(len(data))]\n",
    "  data['day/night']=[1 if data['seg_hour'][i]<18 and data['seg_hour'][i]>6 else 0 for i in range(len(data))] # day equals 1 and night equals 0\n",
    "  return data"
   ]
  },
  {
   "cell_type": "code",
   "execution_count": 4,
   "id": "97bd9887",
   "metadata": {},
   "outputs": [],
   "source": [
    "#Removing outliers Function\n",
    "\n",
    "def detect_outliers(data):\n",
    "    outliers=[]\n",
    "    threshold=3\n",
    "    mean = np.mean(data)\n",
    "    std =np.std(data)\n",
    "    \n",
    "    \n",
    "    for i in data:\n",
    "        z_score= (i - mean)/std \n",
    "        if np.abs(z_score) > threshold:\n",
    "            outliers.append(i)\n",
    "    return outliers"
   ]
  },
  {
   "cell_type": "code",
   "execution_count": 5,
   "id": "cb4b305f",
   "metadata": {},
   "outputs": [],
   "source": [
    "# Datasets input\n",
    "\n",
    "data1=pd.read_csv(\"/Users/mariatsiompra/Documents/master/diplwmatiki/Forecasting/data/GR_1_22830_2023_timeseries.csv\")\n",
    "data5=pd.read_csv(\"/Users/mariatsiompra/Documents/master/diplwmatiki/Forecasting/data/GR_5_64780_2023_timeseries.csv\")\n",
    "data7=pd.read_csv(\"/Users/mariatsiompra/Documents/master/diplwmatiki/Forecasting/data/GR_7_22824_2023_timeseries.csv\")\n",
    "data8=pd.read_csv(\"/Users/mariatsiompra/Documents/master/diplwmatiki/Forecasting/data/GR_8_22883_2023_timeseries.csv\")\n",
    "data10=pd.read_csv(\"/Users/mariatsiompra/Documents/master/diplwmatiki/Forecasting/data/GR_10_22962_2023_timeseries.csv\")\n",
    "data6001=pd.read_csv(\"/Users/mariatsiompra/Documents/master/diplwmatiki/Forecasting/data/GR_6001_64781_2023_timeseries.csv\")"
   ]
  },
  {
   "cell_type": "code",
   "execution_count": 6,
   "id": "34a26f5d",
   "metadata": {},
   "outputs": [
    {
     "data": {
      "text/plain": [
       "(18762, 17)"
      ]
     },
     "execution_count": 6,
     "metadata": {},
     "output_type": "execute_result"
    }
   ],
   "source": [
    "#Merging all datasets\n",
    "\n",
    "data=pd.concat([data1,data5,data7,data8,data10,data6001])\n",
    "data.shape"
   ]
  },
  {
   "cell_type": "code",
   "execution_count": 7,
   "id": "b9e66765",
   "metadata": {},
   "outputs": [
    {
     "data": {
      "text/plain": [
       "array(['SO2', 'PM10', 'O3', 'NO2', 'CO', 'PM2.5'], dtype=object)"
      ]
     },
     "execution_count": 7,
     "metadata": {},
     "output_type": "execute_result"
    }
   ],
   "source": [
    "data['AirPollutant'].unique()"
   ]
  },
  {
   "cell_type": "code",
   "execution_count": 8,
   "id": "a1300741",
   "metadata": {},
   "outputs": [
    {
     "data": {
      "text/plain": [
       "Index(['Countrycode', 'Namespace', 'AirQualityNetwork', 'AirQualityStation',\n",
       "       'AirQualityStationEoICode', 'SamplingPoint', 'SamplingProcess',\n",
       "       'Sample', 'AirPollutant', 'AirPollutantCode', 'AveragingTime',\n",
       "       'Concentration', 'UnitOfMeasurement', 'DatetimeBegin', 'DatetimeEnd',\n",
       "       'Validity', 'Verification'],\n",
       "      dtype='object')"
      ]
     },
     "execution_count": 8,
     "metadata": {},
     "output_type": "execute_result"
    }
   ],
   "source": [
    "data.columns"
   ]
  },
  {
   "cell_type": "code",
   "execution_count": 9,
   "id": "bcaa7f68",
   "metadata": {},
   "outputs": [],
   "source": [
    "#Dropping unnecessary columns and setting datetime column as index\n",
    "data=data.drop(['SamplingPoint','SamplingProcess','Sample','AveragingTime','UnitOfMeasurement','DatetimeBegin','Verification','Namespace','Countrycode','AirQualityNetwork', 'AirQualityStation',\n",
    "       'AirQualityStationEoICode','AirPollutantCode','Validity'],axis=1)\n",
    "data['DatetimeEnd']=pd.to_datetime(data['DatetimeEnd'],utc=True)"
   ]
  },
  {
   "cell_type": "code",
   "execution_count": 10,
   "id": "a9c73a75",
   "metadata": {},
   "outputs": [
    {
     "data": {
      "text/html": [
       "<div>\n",
       "<style scoped>\n",
       "    .dataframe tbody tr th:only-of-type {\n",
       "        vertical-align: middle;\n",
       "    }\n",
       "\n",
       "    .dataframe tbody tr th {\n",
       "        vertical-align: top;\n",
       "    }\n",
       "\n",
       "    .dataframe thead th {\n",
       "        text-align: right;\n",
       "    }\n",
       "</style>\n",
       "<table border=\"1\" class=\"dataframe\">\n",
       "  <thead>\n",
       "    <tr style=\"text-align: right;\">\n",
       "      <th></th>\n",
       "      <th>AirPollutant</th>\n",
       "      <th>Concentration</th>\n",
       "      <th>DatetimeEnd</th>\n",
       "    </tr>\n",
       "  </thead>\n",
       "  <tbody>\n",
       "    <tr>\n",
       "      <th>0</th>\n",
       "      <td>SO2</td>\n",
       "      <td>10.0</td>\n",
       "      <td>2023-01-01 00:00:00+00:00</td>\n",
       "    </tr>\n",
       "    <tr>\n",
       "      <th>1</th>\n",
       "      <td>SO2</td>\n",
       "      <td>10.0</td>\n",
       "      <td>2023-01-01 01:00:00+00:00</td>\n",
       "    </tr>\n",
       "    <tr>\n",
       "      <th>2</th>\n",
       "      <td>SO2</td>\n",
       "      <td>10.0</td>\n",
       "      <td>2023-01-01 02:00:00+00:00</td>\n",
       "    </tr>\n",
       "    <tr>\n",
       "      <th>3</th>\n",
       "      <td>SO2</td>\n",
       "      <td>9.0</td>\n",
       "      <td>2023-01-01 03:00:00+00:00</td>\n",
       "    </tr>\n",
       "    <tr>\n",
       "      <th>4</th>\n",
       "      <td>SO2</td>\n",
       "      <td>10.0</td>\n",
       "      <td>2023-01-01 04:00:00+00:00</td>\n",
       "    </tr>\n",
       "  </tbody>\n",
       "</table>\n",
       "</div>"
      ],
      "text/plain": [
       "  AirPollutant  Concentration               DatetimeEnd\n",
       "0          SO2           10.0 2023-01-01 00:00:00+00:00\n",
       "1          SO2           10.0 2023-01-01 01:00:00+00:00\n",
       "2          SO2           10.0 2023-01-01 02:00:00+00:00\n",
       "3          SO2            9.0 2023-01-01 03:00:00+00:00\n",
       "4          SO2           10.0 2023-01-01 04:00:00+00:00"
      ]
     },
     "execution_count": 10,
     "metadata": {},
     "output_type": "execute_result"
    }
   ],
   "source": [
    "data.head()"
   ]
  },
  {
   "cell_type": "code",
   "execution_count": 11,
   "id": "1c6698cc",
   "metadata": {},
   "outputs": [
    {
     "data": {
      "text/html": [
       "<div>\n",
       "<style scoped>\n",
       "    .dataframe tbody tr th:only-of-type {\n",
       "        vertical-align: middle;\n",
       "    }\n",
       "\n",
       "    .dataframe tbody tr th {\n",
       "        vertical-align: top;\n",
       "    }\n",
       "\n",
       "    .dataframe thead th {\n",
       "        text-align: right;\n",
       "    }\n",
       "</style>\n",
       "<table border=\"1\" class=\"dataframe\">\n",
       "  <thead>\n",
       "    <tr style=\"text-align: right;\">\n",
       "      <th></th>\n",
       "      <th>AirPollutant</th>\n",
       "      <th>Concentration</th>\n",
       "      <th>DatetimeEnd</th>\n",
       "    </tr>\n",
       "  </thead>\n",
       "  <tbody>\n",
       "    <tr>\n",
       "      <th>0</th>\n",
       "      <td>SO2</td>\n",
       "      <td>10.0</td>\n",
       "      <td>2023-01-01 00:00:00+00:00</td>\n",
       "    </tr>\n",
       "    <tr>\n",
       "      <th>1</th>\n",
       "      <td>SO2</td>\n",
       "      <td>10.0</td>\n",
       "      <td>2023-01-01 01:00:00+00:00</td>\n",
       "    </tr>\n",
       "    <tr>\n",
       "      <th>2</th>\n",
       "      <td>SO2</td>\n",
       "      <td>10.0</td>\n",
       "      <td>2023-01-01 02:00:00+00:00</td>\n",
       "    </tr>\n",
       "    <tr>\n",
       "      <th>3</th>\n",
       "      <td>SO2</td>\n",
       "      <td>9.0</td>\n",
       "      <td>2023-01-01 03:00:00+00:00</td>\n",
       "    </tr>\n",
       "    <tr>\n",
       "      <th>4</th>\n",
       "      <td>SO2</td>\n",
       "      <td>10.0</td>\n",
       "      <td>2023-01-01 04:00:00+00:00</td>\n",
       "    </tr>\n",
       "  </tbody>\n",
       "</table>\n",
       "</div>"
      ],
      "text/plain": [
       "  AirPollutant  Concentration               DatetimeEnd\n",
       "0          SO2           10.0 2023-01-01 00:00:00+00:00\n",
       "1          SO2           10.0 2023-01-01 01:00:00+00:00\n",
       "2          SO2           10.0 2023-01-01 02:00:00+00:00\n",
       "3          SO2            9.0 2023-01-01 03:00:00+00:00\n",
       "4          SO2           10.0 2023-01-01 04:00:00+00:00"
      ]
     },
     "execution_count": 11,
     "metadata": {},
     "output_type": "execute_result"
    }
   ],
   "source": [
    "#Creting different dataframes for its Pollutant to run the model\n",
    "# data=data[data[\"AirPollutant\"]==\"CO\"]\n",
    "# data_NO2=data[data[\"AirPollutant\"]==\"NO2\"]\n",
    "# data=data[data[\"AirPollutant\"]==\"O3\"]\n",
    "# data=data[data[\"AirPollutant\"]==\"PM10\"]\n",
    "# data=data[data[\"AirPollutant\"]==\"PM2.5\"]\n",
    "data=data[data[\"AirPollutant\"]==\"SO2\"]\n",
    "data.head()"
   ]
  },
  {
   "cell_type": "code",
   "execution_count": 12,
   "id": "002ca494",
   "metadata": {},
   "outputs": [
    {
     "data": {
      "text/plain": [
       "AirPollutant     0\n",
       "Concentration    0\n",
       "DatetimeEnd      0\n",
       "dtype: int64"
      ]
     },
     "execution_count": 12,
     "metadata": {},
     "output_type": "execute_result"
    }
   ],
   "source": [
    "#Checking null values\n",
    "data.dropna(axis=0,inplace=True)\n",
    "data.isnull().sum()"
   ]
  },
  {
   "cell_type": "code",
   "execution_count": 13,
   "id": "7bc1e05c",
   "metadata": {},
   "outputs": [
    {
     "data": {
      "text/html": [
       "<div>\n",
       "<style scoped>\n",
       "    .dataframe tbody tr th:only-of-type {\n",
       "        vertical-align: middle;\n",
       "    }\n",
       "\n",
       "    .dataframe tbody tr th {\n",
       "        vertical-align: top;\n",
       "    }\n",
       "\n",
       "    .dataframe thead th {\n",
       "        text-align: right;\n",
       "    }\n",
       "</style>\n",
       "<table border=\"1\" class=\"dataframe\">\n",
       "  <thead>\n",
       "    <tr style=\"text-align: right;\">\n",
       "      <th></th>\n",
       "      <th>index</th>\n",
       "      <th>AirPollutant</th>\n",
       "      <th>Concentration</th>\n",
       "      <th>DatetimeEnd</th>\n",
       "    </tr>\n",
       "  </thead>\n",
       "  <tbody>\n",
       "    <tr>\n",
       "      <th>3080</th>\n",
       "      <td>3088</td>\n",
       "      <td>SO2</td>\n",
       "      <td>12.0</td>\n",
       "      <td>2023-05-09 17:00:00+00:00</td>\n",
       "    </tr>\n",
       "    <tr>\n",
       "      <th>3081</th>\n",
       "      <td>3089</td>\n",
       "      <td>SO2</td>\n",
       "      <td>12.0</td>\n",
       "      <td>2023-05-09 18:00:00+00:00</td>\n",
       "    </tr>\n",
       "    <tr>\n",
       "      <th>3082</th>\n",
       "      <td>3090</td>\n",
       "      <td>SO2</td>\n",
       "      <td>12.0</td>\n",
       "      <td>2023-05-09 19:00:00+00:00</td>\n",
       "    </tr>\n",
       "    <tr>\n",
       "      <th>3083</th>\n",
       "      <td>3091</td>\n",
       "      <td>SO2</td>\n",
       "      <td>12.0</td>\n",
       "      <td>2023-05-09 20:00:00+00:00</td>\n",
       "    </tr>\n",
       "    <tr>\n",
       "      <th>3084</th>\n",
       "      <td>3092</td>\n",
       "      <td>SO2</td>\n",
       "      <td>12.0</td>\n",
       "      <td>2023-05-09 21:00:00+00:00</td>\n",
       "    </tr>\n",
       "  </tbody>\n",
       "</table>\n",
       "</div>"
      ],
      "text/plain": [
       "      index AirPollutant  Concentration               DatetimeEnd\n",
       "3080   3088          SO2           12.0 2023-05-09 17:00:00+00:00\n",
       "3081   3089          SO2           12.0 2023-05-09 18:00:00+00:00\n",
       "3082   3090          SO2           12.0 2023-05-09 19:00:00+00:00\n",
       "3083   3091          SO2           12.0 2023-05-09 20:00:00+00:00\n",
       "3084   3092          SO2           12.0 2023-05-09 21:00:00+00:00"
      ]
     },
     "execution_count": 13,
     "metadata": {},
     "output_type": "execute_result"
    }
   ],
   "source": [
    "data.reset_index(inplace=True)\n",
    "data.tail()"
   ]
  },
  {
   "cell_type": "code",
   "execution_count": 14,
   "id": "64e7f748",
   "metadata": {},
   "outputs": [
    {
     "data": {
      "text/html": [
       "<div>\n",
       "<style scoped>\n",
       "    .dataframe tbody tr th:only-of-type {\n",
       "        vertical-align: middle;\n",
       "    }\n",
       "\n",
       "    .dataframe tbody tr th {\n",
       "        vertical-align: top;\n",
       "    }\n",
       "\n",
       "    .dataframe thead th {\n",
       "        text-align: right;\n",
       "    }\n",
       "</style>\n",
       "<table border=\"1\" class=\"dataframe\">\n",
       "  <thead>\n",
       "    <tr style=\"text-align: right;\">\n",
       "      <th></th>\n",
       "      <th>index</th>\n",
       "      <th>AirPollutant</th>\n",
       "      <th>Concentration</th>\n",
       "      <th>DatetimeEnd</th>\n",
       "      <th>seg_hour</th>\n",
       "      <th>day</th>\n",
       "      <th>month</th>\n",
       "      <th>weekday</th>\n",
       "      <th>year</th>\n",
       "      <th>weekend</th>\n",
       "      <th>day/night</th>\n",
       "    </tr>\n",
       "  </thead>\n",
       "  <tbody>\n",
       "    <tr>\n",
       "      <th>0</th>\n",
       "      <td>0</td>\n",
       "      <td>SO2</td>\n",
       "      <td>10.0</td>\n",
       "      <td>2023-01-01 00:00:00+00:00</td>\n",
       "      <td>0</td>\n",
       "      <td>1</td>\n",
       "      <td>1</td>\n",
       "      <td>6</td>\n",
       "      <td>2023</td>\n",
       "      <td>1</td>\n",
       "      <td>0</td>\n",
       "    </tr>\n",
       "    <tr>\n",
       "      <th>1</th>\n",
       "      <td>1</td>\n",
       "      <td>SO2</td>\n",
       "      <td>10.0</td>\n",
       "      <td>2023-01-01 01:00:00+00:00</td>\n",
       "      <td>1</td>\n",
       "      <td>1</td>\n",
       "      <td>1</td>\n",
       "      <td>6</td>\n",
       "      <td>2023</td>\n",
       "      <td>1</td>\n",
       "      <td>0</td>\n",
       "    </tr>\n",
       "    <tr>\n",
       "      <th>2</th>\n",
       "      <td>2</td>\n",
       "      <td>SO2</td>\n",
       "      <td>10.0</td>\n",
       "      <td>2023-01-01 02:00:00+00:00</td>\n",
       "      <td>2</td>\n",
       "      <td>1</td>\n",
       "      <td>1</td>\n",
       "      <td>6</td>\n",
       "      <td>2023</td>\n",
       "      <td>1</td>\n",
       "      <td>0</td>\n",
       "    </tr>\n",
       "    <tr>\n",
       "      <th>3</th>\n",
       "      <td>3</td>\n",
       "      <td>SO2</td>\n",
       "      <td>9.0</td>\n",
       "      <td>2023-01-01 03:00:00+00:00</td>\n",
       "      <td>3</td>\n",
       "      <td>1</td>\n",
       "      <td>1</td>\n",
       "      <td>6</td>\n",
       "      <td>2023</td>\n",
       "      <td>1</td>\n",
       "      <td>0</td>\n",
       "    </tr>\n",
       "    <tr>\n",
       "      <th>4</th>\n",
       "      <td>4</td>\n",
       "      <td>SO2</td>\n",
       "      <td>10.0</td>\n",
       "      <td>2023-01-01 04:00:00+00:00</td>\n",
       "      <td>4</td>\n",
       "      <td>1</td>\n",
       "      <td>1</td>\n",
       "      <td>6</td>\n",
       "      <td>2023</td>\n",
       "      <td>1</td>\n",
       "      <td>0</td>\n",
       "    </tr>\n",
       "    <tr>\n",
       "      <th>...</th>\n",
       "      <td>...</td>\n",
       "      <td>...</td>\n",
       "      <td>...</td>\n",
       "      <td>...</td>\n",
       "      <td>...</td>\n",
       "      <td>...</td>\n",
       "      <td>...</td>\n",
       "      <td>...</td>\n",
       "      <td>...</td>\n",
       "      <td>...</td>\n",
       "      <td>...</td>\n",
       "    </tr>\n",
       "    <tr>\n",
       "      <th>3080</th>\n",
       "      <td>3088</td>\n",
       "      <td>SO2</td>\n",
       "      <td>12.0</td>\n",
       "      <td>2023-05-09 17:00:00+00:00</td>\n",
       "      <td>17</td>\n",
       "      <td>9</td>\n",
       "      <td>5</td>\n",
       "      <td>1</td>\n",
       "      <td>2023</td>\n",
       "      <td>0</td>\n",
       "      <td>1</td>\n",
       "    </tr>\n",
       "    <tr>\n",
       "      <th>3081</th>\n",
       "      <td>3089</td>\n",
       "      <td>SO2</td>\n",
       "      <td>12.0</td>\n",
       "      <td>2023-05-09 18:00:00+00:00</td>\n",
       "      <td>18</td>\n",
       "      <td>9</td>\n",
       "      <td>5</td>\n",
       "      <td>1</td>\n",
       "      <td>2023</td>\n",
       "      <td>0</td>\n",
       "      <td>0</td>\n",
       "    </tr>\n",
       "    <tr>\n",
       "      <th>3082</th>\n",
       "      <td>3090</td>\n",
       "      <td>SO2</td>\n",
       "      <td>12.0</td>\n",
       "      <td>2023-05-09 19:00:00+00:00</td>\n",
       "      <td>19</td>\n",
       "      <td>9</td>\n",
       "      <td>5</td>\n",
       "      <td>1</td>\n",
       "      <td>2023</td>\n",
       "      <td>0</td>\n",
       "      <td>0</td>\n",
       "    </tr>\n",
       "    <tr>\n",
       "      <th>3083</th>\n",
       "      <td>3091</td>\n",
       "      <td>SO2</td>\n",
       "      <td>12.0</td>\n",
       "      <td>2023-05-09 20:00:00+00:00</td>\n",
       "      <td>20</td>\n",
       "      <td>9</td>\n",
       "      <td>5</td>\n",
       "      <td>1</td>\n",
       "      <td>2023</td>\n",
       "      <td>0</td>\n",
       "      <td>0</td>\n",
       "    </tr>\n",
       "    <tr>\n",
       "      <th>3084</th>\n",
       "      <td>3092</td>\n",
       "      <td>SO2</td>\n",
       "      <td>12.0</td>\n",
       "      <td>2023-05-09 21:00:00+00:00</td>\n",
       "      <td>21</td>\n",
       "      <td>9</td>\n",
       "      <td>5</td>\n",
       "      <td>1</td>\n",
       "      <td>2023</td>\n",
       "      <td>0</td>\n",
       "      <td>0</td>\n",
       "    </tr>\n",
       "  </tbody>\n",
       "</table>\n",
       "<p>3085 rows × 11 columns</p>\n",
       "</div>"
      ],
      "text/plain": [
       "      index AirPollutant  Concentration               DatetimeEnd  seg_hour  \\\n",
       "0         0          SO2           10.0 2023-01-01 00:00:00+00:00         0   \n",
       "1         1          SO2           10.0 2023-01-01 01:00:00+00:00         1   \n",
       "2         2          SO2           10.0 2023-01-01 02:00:00+00:00         2   \n",
       "3         3          SO2            9.0 2023-01-01 03:00:00+00:00         3   \n",
       "4         4          SO2           10.0 2023-01-01 04:00:00+00:00         4   \n",
       "...     ...          ...            ...                       ...       ...   \n",
       "3080   3088          SO2           12.0 2023-05-09 17:00:00+00:00        17   \n",
       "3081   3089          SO2           12.0 2023-05-09 18:00:00+00:00        18   \n",
       "3082   3090          SO2           12.0 2023-05-09 19:00:00+00:00        19   \n",
       "3083   3091          SO2           12.0 2023-05-09 20:00:00+00:00        20   \n",
       "3084   3092          SO2           12.0 2023-05-09 21:00:00+00:00        21   \n",
       "\n",
       "      day  month  weekday  year  weekend  day/night  \n",
       "0       1      1        6  2023        1          0  \n",
       "1       1      1        6  2023        1          0  \n",
       "2       1      1        6  2023        1          0  \n",
       "3       1      1        6  2023        1          0  \n",
       "4       1      1        6  2023        1          0  \n",
       "...   ...    ...      ...   ...      ...        ...  \n",
       "3080    9      5        1  2023        0          1  \n",
       "3081    9      5        1  2023        0          0  \n",
       "3082    9      5        1  2023        0          0  \n",
       "3083    9      5        1  2023        0          0  \n",
       "3084    9      5        1  2023        0          0  \n",
       "\n",
       "[3085 rows x 11 columns]"
      ]
     },
     "execution_count": 14,
     "metadata": {},
     "output_type": "execute_result"
    }
   ],
   "source": [
    "Create_Features(data)"
   ]
  },
  {
   "cell_type": "code",
   "execution_count": 15,
   "id": "0c166630",
   "metadata": {},
   "outputs": [
    {
     "data": {
      "image/png": "[encoded data removed]",
      "text/plain": [
       "<Figure size 1080x360 with 1 Axes>"
      ]
     },
     "metadata": {
      "needs_background": "light"
     },
     "output_type": "display_data"
    }
   ],
   "source": [
    "#plotting data concentration per hour lineplot\n",
    "fig=plt.figure(figsize=(15,5))\n",
    "sns.lineplot(data=data,x='DatetimeEnd',y='Concentration')\n",
    "plt.title('Concentration per hour',fontsize=15)\n",
    "plt.xlabel('date',fontsize=15)\n",
    "plt.ylabel('Concentration',fontsize=15)\n",
    "plt.show()"
   ]
  },
  {
   "cell_type": "code",
   "execution_count": 16,
   "id": "506efea7",
   "metadata": {},
   "outputs": [
    {
     "data": {
      "image/png": "[encoded data removed]",
      "text/plain": [
       "<Figure size 720x576 with 1 Axes>"
      ]
     },
     "metadata": {
      "needs_background": "light"
     },
     "output_type": "display_data"
    }
   ],
   "source": [
    "#Concentration per hour boxplot\n",
    "fig, ax= plt.subplots(figsize= (10,8))\n",
    "sns.boxplot(data=data,x='seg_hour',y='Concentration')\n",
    "ax.set_title(\"Concentration per hour\")\n",
    "plt.show()"
   ]
  },
  {
   "cell_type": "code",
   "execution_count": 16,
   "id": "0135df56",
   "metadata": {},
   "outputs": [
    {
     "name": "stdout",
     "output_type": "stream",
     "text": [
      "median 13.0\n",
      "q1 11.0\n",
      "q3 15.0\n",
      "iqr 4.0\n",
      "lower bound 5.0\n",
      "upper bound 21.0\n"
     ]
    }
   ],
   "source": [
    "# Calculate the relevant statistics\n",
    "median = data['Concentration'].median()\n",
    "q1 = data['Concentration'].quantile(0.25)\n",
    "q3 = data['Concentration'].quantile(0.75)\n",
    "iqr = q3 - q1\n",
    "lower_bound = q1 - (1.5 * iqr)\n",
    "upper_bound = q3 + (1.5 * iqr)\n",
    "\n",
    "print(\"median\",median)\n",
    "print(\"q1\",q1)\n",
    "print(\"q3\",q3)\n",
    "print(\"iqr\",iqr)\n",
    "print(\"lower bound\",lower_bound)\n",
    "print(\"upper bound\", upper_bound)\n"
   ]
  },
  {
   "cell_type": "code",
   "execution_count": 17,
   "id": "66045e48",
   "metadata": {},
   "outputs": [
    {
     "data": {
      "text/plain": [
       "18"
      ]
     },
     "execution_count": 17,
     "metadata": {},
     "output_type": "execute_result"
    }
   ],
   "source": [
    "#Printing Outliers\n",
    "outlier_pt=detect_outliers(data[\"Concentration\"])\n",
    "len(outlier_pt)"
   ]
  },
  {
   "cell_type": "code",
   "execution_count": 18,
   "id": "a7101c4b",
   "metadata": {},
   "outputs": [
    {
     "name": "stdout",
     "output_type": "stream",
     "text": [
      "11.0 15.0\n"
     ]
    }
   ],
   "source": [
    "quantile1, quantile3= np.percentile(data['Concentration'],[25,75])\n",
    "print(quantile1,quantile3)"
   ]
  },
  {
   "cell_type": "code",
   "execution_count": 19,
   "id": "2259755a",
   "metadata": {},
   "outputs": [
    {
     "name": "stdout",
     "output_type": "stream",
     "text": [
      "4.0\n"
     ]
    }
   ],
   "source": [
    "## Find the IQR\n",
    "iqr=quantile3-quantile1\n",
    "print(iqr)"
   ]
  },
  {
   "cell_type": "code",
   "execution_count": 20,
   "id": "f84468b9",
   "metadata": {},
   "outputs": [
    {
     "name": "stdout",
     "output_type": "stream",
     "text": [
      "5.0 21.0\n"
     ]
    }
   ],
   "source": [
    "## Find the lower bound value and the higher bound value\n",
    "lower_bound_val = quantile1 -(1.5 * iqr) \n",
    "upper_bound_val = quantile3 +(1.5 * iqr) \n",
    "print(lower_bound_val,upper_bound_val)"
   ]
  },
  {
   "cell_type": "code",
   "execution_count": 21,
   "id": "97386f81",
   "metadata": {},
   "outputs": [
    {
     "name": "stdout",
     "output_type": "stream",
     "text": [
      "<class 'pandas.core.frame.DataFrame'>\n",
      "Int64Index: 2975 entries, 0 to 3084\n",
      "Data columns (total 11 columns):\n",
      " #   Column         Non-Null Count  Dtype              \n",
      "---  ------         --------------  -----              \n",
      " 0   index          2975 non-null   int64              \n",
      " 1   AirPollutant   2975 non-null   object             \n",
      " 2   Concentration  2975 non-null   float64            \n",
      " 3   DatetimeEnd    2975 non-null   datetime64[ns, UTC]\n",
      " 4   seg_hour       2975 non-null   int64              \n",
      " 5   day            2975 non-null   int64              \n",
      " 6   month          2975 non-null   int64              \n",
      " 7   weekday        2975 non-null   int64              \n",
      " 8   year           2975 non-null   int64              \n",
      " 9   weekend        2975 non-null   int64              \n",
      " 10  day/night      2975 non-null   int64              \n",
      "dtypes: datetime64[ns, UTC](1), float64(1), int64(8), object(1)\n",
      "memory usage: 278.9+ KB\n"
     ]
    }
   ],
   "source": [
    "data=data.loc[(data['Concentration']>=lower_bound_val)&(data['Concentration']<=upper_bound_val)]\n",
    "data.info()"
   ]
  },
  {
   "cell_type": "code",
   "execution_count": 22,
   "id": "c9d2f788",
   "metadata": {},
   "outputs": [
    {
     "data": {
      "text/plain": [
       "8.0"
      ]
     },
     "execution_count": 22,
     "metadata": {},
     "output_type": "execute_result"
    }
   ],
   "source": [
    "min(data.Concentration)"
   ]
  },
  {
   "cell_type": "code",
   "execution_count": 23,
   "id": "9e49129e",
   "metadata": {},
   "outputs": [
    {
     "data": {
      "text/plain": [
       "21.0"
      ]
     },
     "execution_count": 23,
     "metadata": {},
     "output_type": "execute_result"
    }
   ],
   "source": [
    "max(data.Concentration)"
   ]
  },
  {
   "cell_type": "code",
   "execution_count": 24,
   "id": "500fcd8a",
   "metadata": {},
   "outputs": [
    {
     "data": {
      "image/png": "[encoded data removed]",
      "text/plain": [
       "<Figure size 720x576 with 1 Axes>"
      ]
     },
     "metadata": {
      "needs_background": "light"
     },
     "output_type": "display_data"
    }
   ],
   "source": [
    "#Concentration per hour boxplot after removing outliesrs\n",
    "fig, ax= plt.subplots(figsize= (10,8))\n",
    "sns.boxplot(data=data,x='seg_hour',y='Concentration')\n",
    "ax.set_title(\"Concentration per hour\")\n",
    "plt.show()"
   ]
  },
  {
   "cell_type": "code",
   "execution_count": 25,
   "id": "7f64acbb",
   "metadata": {},
   "outputs": [
    {
     "name": "stdout",
     "output_type": "stream",
     "text": [
      "median 13.0\n",
      "q1 11.0\n",
      "q3 14.0\n",
      "iqr 3.0\n",
      "lower bound 6.5\n",
      "upper bound 18.5\n"
     ]
    }
   ],
   "source": [
    "# Calculate the relevant statistics\n",
    "median = data['Concentration'].median()\n",
    "q1 = data['Concentration'].quantile(0.25)\n",
    "q3 = data['Concentration'].quantile(0.75)\n",
    "iqr = q3 - q1\n",
    "lower_bound = q1 - (1.5 * iqr)\n",
    "upper_bound = q3 + (1.5 * iqr)\n",
    "\n",
    "print(\"median\",median)\n",
    "print(\"q1\",q1)\n",
    "print(\"q3\",q3)\n",
    "print(\"iqr\",iqr)\n",
    "print(\"lower bound\",lower_bound)\n",
    "print(\"upper bound\", upper_bound)\n"
   ]
  },
  {
   "cell_type": "code",
   "execution_count": 23,
   "id": "badfa42e",
   "metadata": {},
   "outputs": [
    {
     "data": {
      "image/png": "[encoded data removed]",
      "text/plain": [
       "<Figure size 1296x720 with 1 Axes>"
      ]
     },
     "metadata": {
      "needs_background": "light"
     },
     "output_type": "display_data"
    }
   ],
   "source": [
    "#Creating concentration each month boxplot after removing outliers\n",
    "fig=plt.figure(figsize=(18,10))\n",
    "sns.boxplot(data=data,x='month',y='Concentration',color='grey')\n",
    "plt.title('Concentration per Month',fontsize=20)\n",
    "plt.xlabel('Month',fontsize=19)\n",
    "plt.xticks(np.arange(5),labels=['January','February','March','April','May'],fontsize=18)\n",
    "plt.yticks(fontsize=16)\n",
    "plt.ylabel('Concentration',fontsize=19)\n",
    "plt.tight_layout()\n",
    "plt.show()"
   ]
  },
  {
   "cell_type": "code",
   "execution_count": 24,
   "id": "dfd82d9e",
   "metadata": {},
   "outputs": [
    {
     "data": {
      "image/png": "[encoded data removed]",
      "text/plain": [
       "<Figure size 936x504 with 1 Axes>"
      ]
     },
     "metadata": {
      "needs_background": "light"
     },
     "output_type": "display_data"
    }
   ],
   "source": [
    "#Creating concentration during each day lineplot after removing outliesrs\n",
    "fig=plt.figure(figsize=(13,7))\n",
    "sns.lineplot(data=data,x='day',y='Concentration',ci=None)\n",
    "plt.xticks(fontsize=18)\n",
    "plt.yticks(fontsize=18)\n",
    "plt.title('Concentration per day',fontsize=19)\n",
    "plt.xlabel('day',fontsize=18)\n",
    "plt.ylabel('Concentration',fontsize=18)\n",
    "plt.tight_layout()\n",
    "plt.show()"
   ]
  },
  {
   "cell_type": "code",
   "execution_count": 25,
   "id": "3c8b89a7",
   "metadata": {},
   "outputs": [],
   "source": [
    "data.head()\n",
    "data.reset_index(inplace=True)\n"
   ]
  },
  {
   "cell_type": "code",
   "execution_count": 26,
   "id": "cb3a4d70",
   "metadata": {},
   "outputs": [
    {
     "name": "stderr",
     "output_type": "stream",
     "text": [
      "\n",
      "A value is trying to be set on a copy of a slice from a DataFrame.\n",
      "Try using .loc[row_indexer,col_indexer] = value instead\n",
      "\n",
      "See the caveats in the documentation: https://pandas.pydata.org/pandas-docs/stable/user_guide/indexing.html#returning-a-view-versus-a-copy\n",
      "\n",
      "A value is trying to be set on a copy of a slice from a DataFrame.\n",
      "Try using .loc[row_indexer,col_indexer] = value instead\n",
      "\n",
      "See the caveats in the documentation: https://pandas.pydata.org/pandas-docs/stable/user_guide/indexing.html#returning-a-view-versus-a-copy\n",
      "\n",
      "A value is trying to be set on a copy of a slice from a DataFrame.\n",
      "Try using .loc[row_indexer,col_indexer] = value instead\n",
      "\n",
      "See the caveats in the documentation: https://pandas.pydata.org/pandas-docs/stable/user_guide/indexing.html#returning-a-view-versus-a-copy\n",
      "\n",
      "A value is trying to be set on a copy of a slice from a DataFrame.\n",
      "Try using .loc[row_indexer,col_indexer] = value instead\n",
      "\n",
      "See the caveats in the documentation: https://pandas.pydata.org/pandas-docs/stable/user_guide/indexing.html#returning-a-view-versus-a-copy\n",
      "\n",
      "A value is trying to be set on a copy of a slice from a DataFrame.\n",
      "Try using .loc[row_indexer,col_indexer] = value instead\n",
      "\n",
      "See the caveats in the documentation: https://pandas.pydata.org/pandas-docs/stable/user_guide/indexing.html#returning-a-view-versus-a-copy\n",
      "\n",
      "A value is trying to be set on a copy of a slice from a DataFrame.\n",
      "Try using .loc[row_indexer,col_indexer] = value instead\n",
      "\n",
      "See the caveats in the documentation: https://pandas.pydata.org/pandas-docs/stable/user_guide/indexing.html#returning-a-view-versus-a-copy\n",
      "\n",
      "A value is trying to be set on a copy of a slice from a DataFrame.\n",
      "Try using .loc[row_indexer,col_indexer] = value instead\n",
      "\n",
      "See the caveats in the documentation: https://pandas.pydata.org/pandas-docs/stable/user_guide/indexing.html#returning-a-view-versus-a-copy\n"
     ]
    }
   ],
   "source": [
    "#previous Hours, windows 2-3 (mean, min, max)\n",
    "def prev_2hours():\n",
    "   data['prev_2hours']=[data['Concentration'][i] if i==0 else data['Concentration'][i-1] if i==1 else data['Concentration'][i-2]\n",
    "                                for i in range(len(data))]\n",
    "prev_2hours()\n",
    "\n",
    "def prev_two_hours_mean(): #mean of previous two hours (window = 2)\n",
    "      data['prev_two_hours_mean']=data['index'].apply(lambda x: data['Concentration'].loc[x-2:x-1].mean()).round()\n",
    "    \n",
    "prev_two_hours_mean()\n",
    "    \n",
    "def prev_two_hours_min(): #minimum of  previous two on  hours (window = 2)\n",
    "    data['prev_two_hours_min']=data['index'].apply(lambda x: data['Concentration'].loc[x-2:x-1].min())\n",
    "prev_two_hours_min()\n",
    "    \n",
    "def prev_two_hours_max(): #maximum of previous two  hours (window = 2)\n",
    "     data['prev_two_hours_max']=data['index'].apply(lambda x: data['Concentration'].loc[x-2:x-1].max())\n",
    "        \n",
    "prev_two_hours_max()\n",
    "    \n",
    "def prev_three_hours_mean(): #mean of previous three  hours (window = 3)\n",
    "     data['prev_three_hours_mean']=data['index'].apply(lambda x: data['Concentration'].loc[x-3:x-1].mean()).round()\n",
    "        \n",
    "prev_three_hours_mean()\n",
    "    \n",
    "def prev_three_hours_min(): #minimum of previous three  hours (window = 3)\n",
    "     data['prev_three_hours_min']=data['index'].apply(lambda x: data['Concentration'].loc[x-3:x-1].min())\n",
    "        \n",
    "prev_three_hours_min()\n",
    "    \n",
    "def prev_three_hours_max(): #maximum of previous three hours (window = 3)\n",
    "     data['prev_three_hours_max']=data['index'].apply(lambda x: data['Concentration'].loc[x-3:x-1].max())\n",
    "        \n",
    "prev_three_hours_max()"
   ]
  },
  {
   "cell_type": "code",
   "execution_count": 27,
   "id": "1ccf9d7b",
   "metadata": {},
   "outputs": [
    {
     "data": {
      "text/html": [
       "<div>\n",
       "<style scoped>\n",
       "    .dataframe tbody tr th:only-of-type {\n",
       "        vertical-align: middle;\n",
       "    }\n",
       "\n",
       "    .dataframe tbody tr th {\n",
       "        vertical-align: top;\n",
       "    }\n",
       "\n",
       "    .dataframe thead th {\n",
       "        text-align: right;\n",
       "    }\n",
       "</style>\n",
       "<table border=\"1\" class=\"dataframe\">\n",
       "  <thead>\n",
       "    <tr style=\"text-align: right;\">\n",
       "      <th></th>\n",
       "      <th>prev_2hours</th>\n",
       "      <th>Concentration</th>\n",
       "    </tr>\n",
       "  </thead>\n",
       "  <tbody>\n",
       "    <tr>\n",
       "      <th>0</th>\n",
       "      <td>10.0</td>\n",
       "      <td>10.0</td>\n",
       "    </tr>\n",
       "    <tr>\n",
       "      <th>1</th>\n",
       "      <td>10.0</td>\n",
       "      <td>10.0</td>\n",
       "    </tr>\n",
       "    <tr>\n",
       "      <th>2</th>\n",
       "      <td>10.0</td>\n",
       "      <td>10.0</td>\n",
       "    </tr>\n",
       "    <tr>\n",
       "      <th>3</th>\n",
       "      <td>10.0</td>\n",
       "      <td>9.0</td>\n",
       "    </tr>\n",
       "    <tr>\n",
       "      <th>4</th>\n",
       "      <td>10.0</td>\n",
       "      <td>10.0</td>\n",
       "    </tr>\n",
       "    <tr>\n",
       "      <th>5</th>\n",
       "      <td>9.0</td>\n",
       "      <td>9.0</td>\n",
       "    </tr>\n",
       "    <tr>\n",
       "      <th>6</th>\n",
       "      <td>10.0</td>\n",
       "      <td>9.0</td>\n",
       "    </tr>\n",
       "    <tr>\n",
       "      <th>7</th>\n",
       "      <td>9.0</td>\n",
       "      <td>8.0</td>\n",
       "    </tr>\n",
       "    <tr>\n",
       "      <th>8</th>\n",
       "      <td>9.0</td>\n",
       "      <td>9.0</td>\n",
       "    </tr>\n",
       "    <tr>\n",
       "      <th>9</th>\n",
       "      <td>8.0</td>\n",
       "      <td>9.0</td>\n",
       "    </tr>\n",
       "  </tbody>\n",
       "</table>\n",
       "</div>"
      ],
      "text/plain": [
       "   prev_2hours  Concentration\n",
       "0         10.0           10.0\n",
       "1         10.0           10.0\n",
       "2         10.0           10.0\n",
       "3         10.0            9.0\n",
       "4         10.0           10.0\n",
       "5          9.0            9.0\n",
       "6         10.0            9.0\n",
       "7          9.0            8.0\n",
       "8          9.0            9.0\n",
       "9          8.0            9.0"
      ]
     },
     "execution_count": 27,
     "metadata": {},
     "output_type": "execute_result"
    }
   ],
   "source": [
    "data[['prev_2hours','Concentration']].head(10) #checking variable prev_2hours"
   ]
  },
  {
   "cell_type": "code",
   "execution_count": 28,
   "id": "6501cc92",
   "metadata": {},
   "outputs": [
    {
     "data": {
      "text/html": [
       "<div>\n",
       "<style scoped>\n",
       "    .dataframe tbody tr th:only-of-type {\n",
       "        vertical-align: middle;\n",
       "    }\n",
       "\n",
       "    .dataframe tbody tr th {\n",
       "        vertical-align: top;\n",
       "    }\n",
       "\n",
       "    .dataframe thead th {\n",
       "        text-align: right;\n",
       "    }\n",
       "</style>\n",
       "<table border=\"1\" class=\"dataframe\">\n",
       "  <thead>\n",
       "    <tr style=\"text-align: right;\">\n",
       "      <th></th>\n",
       "      <th>prev_two_hours_max</th>\n",
       "      <th>prev_two_hours_min</th>\n",
       "      <th>prev_two_hours_mean</th>\n",
       "      <th>prev_2hours</th>\n",
       "      <th>Concentration</th>\n",
       "    </tr>\n",
       "  </thead>\n",
       "  <tbody>\n",
       "    <tr>\n",
       "      <th>0</th>\n",
       "      <td>NaN</td>\n",
       "      <td>NaN</td>\n",
       "      <td>NaN</td>\n",
       "      <td>10.0</td>\n",
       "      <td>10.0</td>\n",
       "    </tr>\n",
       "    <tr>\n",
       "      <th>1</th>\n",
       "      <td>10.0</td>\n",
       "      <td>10.0</td>\n",
       "      <td>10.0</td>\n",
       "      <td>10.0</td>\n",
       "      <td>10.0</td>\n",
       "    </tr>\n",
       "    <tr>\n",
       "      <th>2</th>\n",
       "      <td>10.0</td>\n",
       "      <td>10.0</td>\n",
       "      <td>10.0</td>\n",
       "      <td>10.0</td>\n",
       "      <td>10.0</td>\n",
       "    </tr>\n",
       "    <tr>\n",
       "      <th>3</th>\n",
       "      <td>10.0</td>\n",
       "      <td>10.0</td>\n",
       "      <td>10.0</td>\n",
       "      <td>10.0</td>\n",
       "      <td>9.0</td>\n",
       "    </tr>\n",
       "    <tr>\n",
       "      <th>4</th>\n",
       "      <td>10.0</td>\n",
       "      <td>9.0</td>\n",
       "      <td>10.0</td>\n",
       "      <td>10.0</td>\n",
       "      <td>10.0</td>\n",
       "    </tr>\n",
       "    <tr>\n",
       "      <th>5</th>\n",
       "      <td>10.0</td>\n",
       "      <td>9.0</td>\n",
       "      <td>10.0</td>\n",
       "      <td>9.0</td>\n",
       "      <td>9.0</td>\n",
       "    </tr>\n",
       "    <tr>\n",
       "      <th>6</th>\n",
       "      <td>10.0</td>\n",
       "      <td>9.0</td>\n",
       "      <td>10.0</td>\n",
       "      <td>10.0</td>\n",
       "      <td>9.0</td>\n",
       "    </tr>\n",
       "    <tr>\n",
       "      <th>7</th>\n",
       "      <td>9.0</td>\n",
       "      <td>9.0</td>\n",
       "      <td>9.0</td>\n",
       "      <td>9.0</td>\n",
       "      <td>8.0</td>\n",
       "    </tr>\n",
       "    <tr>\n",
       "      <th>8</th>\n",
       "      <td>9.0</td>\n",
       "      <td>8.0</td>\n",
       "      <td>8.0</td>\n",
       "      <td>9.0</td>\n",
       "      <td>9.0</td>\n",
       "    </tr>\n",
       "    <tr>\n",
       "      <th>9</th>\n",
       "      <td>9.0</td>\n",
       "      <td>8.0</td>\n",
       "      <td>8.0</td>\n",
       "      <td>8.0</td>\n",
       "      <td>9.0</td>\n",
       "    </tr>\n",
       "    <tr>\n",
       "      <th>10</th>\n",
       "      <td>9.0</td>\n",
       "      <td>9.0</td>\n",
       "      <td>9.0</td>\n",
       "      <td>9.0</td>\n",
       "      <td>9.0</td>\n",
       "    </tr>\n",
       "    <tr>\n",
       "      <th>11</th>\n",
       "      <td>9.0</td>\n",
       "      <td>9.0</td>\n",
       "      <td>9.0</td>\n",
       "      <td>9.0</td>\n",
       "      <td>9.0</td>\n",
       "    </tr>\n",
       "    <tr>\n",
       "      <th>12</th>\n",
       "      <td>9.0</td>\n",
       "      <td>9.0</td>\n",
       "      <td>9.0</td>\n",
       "      <td>9.0</td>\n",
       "      <td>10.0</td>\n",
       "    </tr>\n",
       "    <tr>\n",
       "      <th>13</th>\n",
       "      <td>10.0</td>\n",
       "      <td>9.0</td>\n",
       "      <td>10.0</td>\n",
       "      <td>9.0</td>\n",
       "      <td>12.0</td>\n",
       "    </tr>\n",
       "    <tr>\n",
       "      <th>14</th>\n",
       "      <td>12.0</td>\n",
       "      <td>10.0</td>\n",
       "      <td>11.0</td>\n",
       "      <td>10.0</td>\n",
       "      <td>11.0</td>\n",
       "    </tr>\n",
       "    <tr>\n",
       "      <th>15</th>\n",
       "      <td>12.0</td>\n",
       "      <td>11.0</td>\n",
       "      <td>12.0</td>\n",
       "      <td>12.0</td>\n",
       "      <td>11.0</td>\n",
       "    </tr>\n",
       "    <tr>\n",
       "      <th>16</th>\n",
       "      <td>11.0</td>\n",
       "      <td>11.0</td>\n",
       "      <td>11.0</td>\n",
       "      <td>11.0</td>\n",
       "      <td>12.0</td>\n",
       "    </tr>\n",
       "    <tr>\n",
       "      <th>17</th>\n",
       "      <td>12.0</td>\n",
       "      <td>11.0</td>\n",
       "      <td>12.0</td>\n",
       "      <td>11.0</td>\n",
       "      <td>12.0</td>\n",
       "    </tr>\n",
       "    <tr>\n",
       "      <th>18</th>\n",
       "      <td>12.0</td>\n",
       "      <td>12.0</td>\n",
       "      <td>12.0</td>\n",
       "      <td>12.0</td>\n",
       "      <td>13.0</td>\n",
       "    </tr>\n",
       "    <tr>\n",
       "      <th>19</th>\n",
       "      <td>13.0</td>\n",
       "      <td>12.0</td>\n",
       "      <td>12.0</td>\n",
       "      <td>12.0</td>\n",
       "      <td>15.0</td>\n",
       "    </tr>\n",
       "    <tr>\n",
       "      <th>20</th>\n",
       "      <td>15.0</td>\n",
       "      <td>13.0</td>\n",
       "      <td>14.0</td>\n",
       "      <td>13.0</td>\n",
       "      <td>14.0</td>\n",
       "    </tr>\n",
       "    <tr>\n",
       "      <th>21</th>\n",
       "      <td>15.0</td>\n",
       "      <td>14.0</td>\n",
       "      <td>14.0</td>\n",
       "      <td>15.0</td>\n",
       "      <td>14.0</td>\n",
       "    </tr>\n",
       "    <tr>\n",
       "      <th>22</th>\n",
       "      <td>14.0</td>\n",
       "      <td>14.0</td>\n",
       "      <td>14.0</td>\n",
       "      <td>14.0</td>\n",
       "      <td>14.0</td>\n",
       "    </tr>\n",
       "    <tr>\n",
       "      <th>23</th>\n",
       "      <td>14.0</td>\n",
       "      <td>14.0</td>\n",
       "      <td>14.0</td>\n",
       "      <td>14.0</td>\n",
       "      <td>12.0</td>\n",
       "    </tr>\n",
       "    <tr>\n",
       "      <th>24</th>\n",
       "      <td>14.0</td>\n",
       "      <td>12.0</td>\n",
       "      <td>13.0</td>\n",
       "      <td>14.0</td>\n",
       "      <td>12.0</td>\n",
       "    </tr>\n",
       "  </tbody>\n",
       "</table>\n",
       "</div>"
      ],
      "text/plain": [
       "    prev_two_hours_max  prev_two_hours_min  prev_two_hours_mean  prev_2hours  \\\n",
       "0                  NaN                 NaN                  NaN         10.0   \n",
       "1                 10.0                10.0                 10.0         10.0   \n",
       "2                 10.0                10.0                 10.0         10.0   \n",
       "3                 10.0                10.0                 10.0         10.0   \n",
       "4                 10.0                 9.0                 10.0         10.0   \n",
       "5                 10.0                 9.0                 10.0          9.0   \n",
       "6                 10.0                 9.0                 10.0         10.0   \n",
       "7                  9.0                 9.0                  9.0          9.0   \n",
       "8                  9.0                 8.0                  8.0          9.0   \n",
       "9                  9.0                 8.0                  8.0          8.0   \n",
       "10                 9.0                 9.0                  9.0          9.0   \n",
       "11                 9.0                 9.0                  9.0          9.0   \n",
       "12                 9.0                 9.0                  9.0          9.0   \n",
       "13                10.0                 9.0                 10.0          9.0   \n",
       "14                12.0                10.0                 11.0         10.0   \n",
       "15                12.0                11.0                 12.0         12.0   \n",
       "16                11.0                11.0                 11.0         11.0   \n",
       "17                12.0                11.0                 12.0         11.0   \n",
       "18                12.0                12.0                 12.0         12.0   \n",
       "19                13.0                12.0                 12.0         12.0   \n",
       "20                15.0                13.0                 14.0         13.0   \n",
       "21                15.0                14.0                 14.0         15.0   \n",
       "22                14.0                14.0                 14.0         14.0   \n",
       "23                14.0                14.0                 14.0         14.0   \n",
       "24                14.0                12.0                 13.0         14.0   \n",
       "\n",
       "    Concentration  \n",
       "0            10.0  \n",
       "1            10.0  \n",
       "2            10.0  \n",
       "3             9.0  \n",
       "4            10.0  \n",
       "5             9.0  \n",
       "6             9.0  \n",
       "7             8.0  \n",
       "8             9.0  \n",
       "9             9.0  \n",
       "10            9.0  \n",
       "11            9.0  \n",
       "12           10.0  \n",
       "13           12.0  \n",
       "14           11.0  \n",
       "15           11.0  \n",
       "16           12.0  \n",
       "17           12.0  \n",
       "18           13.0  \n",
       "19           15.0  \n",
       "20           14.0  \n",
       "21           14.0  \n",
       "22           14.0  \n",
       "23           12.0  \n",
       "24           12.0  "
      ]
     },
     "execution_count": 28,
     "metadata": {},
     "output_type": "execute_result"
    }
   ],
   "source": [
    "data[['prev_two_hours_max','prev_two_hours_min','prev_two_hours_mean','prev_2hours','Concentration']].head(25) #checking"
   ]
  },
  {
   "cell_type": "code",
   "execution_count": 29,
   "id": "d9b46685",
   "metadata": {},
   "outputs": [],
   "source": [
    "#Train Test split\n",
    "data=data.set_index(\"DatetimeEnd\")\n",
    "train=data.loc[data.index<\"2023-04-15\"]\n",
    "test=data.loc[data.index>=\"2023-04-15\"]"
   ]
  },
  {
   "cell_type": "code",
   "execution_count": 30,
   "id": "7d612c88",
   "metadata": {},
   "outputs": [
    {
     "name": "stdout",
     "output_type": "stream",
     "text": [
      "(2975, 18)\n",
      "(2377, 18)\n",
      "(598, 18)\n"
     ]
    }
   ],
   "source": [
    "#hape of data train data and test data\n",
    "print(data.shape)\n",
    "print(train.shape)\n",
    "print(test.shape)"
   ]
  },
  {
   "cell_type": "code",
   "execution_count": 31,
   "id": "a7e4d5e2",
   "metadata": {},
   "outputs": [
    {
     "data": {
      "image/png": "[encoded data removed]",
      "text/plain": [
       "<Figure size 1080x360 with 1 Axes>"
      ]
     },
     "metadata": {
      "needs_background": "light"
     },
     "output_type": "display_data"
    }
   ],
   "source": [
    "#Train test split Visualization\n",
    "fig,ax=plt.subplots(figsize=(15,5))\n",
    "sns.lineplot(data=train,x='DatetimeEnd',y='Concentration')\n",
    "sns.lineplot(data=test,x='DatetimeEnd',y='Concentration')\n",
    "ax.legend(['train set','test set'])\n",
    "plt.show()"
   ]
  },
  {
   "cell_type": "code",
   "execution_count": 32,
   "id": "62cc2b9d",
   "metadata": {},
   "outputs": [
    {
     "data": {
      "text/plain": [
       "DatetimeEnd\n",
       "2023-01-01 00:00:00+00:00    10.0\n",
       "2023-01-01 01:00:00+00:00    10.0\n",
       "2023-01-01 02:00:00+00:00    10.0\n",
       "2023-01-01 03:00:00+00:00     9.0\n",
       "2023-01-01 04:00:00+00:00    10.0\n",
       "Name: Concentration, dtype: float64"
      ]
     },
     "execution_count": 32,
     "metadata": {},
     "output_type": "execute_result"
    }
   ],
   "source": [
    "data.columns\n",
    "data['Concentration']=data['Concentration'].round()\n",
    "data['Concentration'].head()"
   ]
  },
  {
   "cell_type": "code",
   "execution_count": 33,
   "id": "ecd30e93",
   "metadata": {},
   "outputs": [],
   "source": [
    "features=['seg_hour', 'day', 'month', 'weekday',\n",
    "       'year','weekend', 'day/night',\"prev_2hours\",\n",
    "       'prev_two_hours_mean', 'prev_two_hours_min', 'prev_two_hours_max',\n",
    "       'prev_three_hours_mean', 'prev_three_hours_min',\n",
    "       'prev_three_hours_max']\n",
    "\n",
    "target=\"Concentration\"\n",
    "\n",
    "X_train=train[features]\n",
    "y_train=train[target]\n",
    "X_test=test[features]\n",
    "y_test=test[target]"
   ]
  },
  {
   "cell_type": "code",
   "execution_count": 34,
   "id": "f4d61337",
   "metadata": {},
   "outputs": [
    {
     "name": "stdout",
     "output_type": "stream",
     "text": [
      "DatetimeEnd\n",
      "2023-01-01 00:00:00+00:00    10.0\n",
      "2023-01-01 01:00:00+00:00    10.0\n",
      "2023-01-01 02:00:00+00:00    10.0\n",
      "2023-01-01 03:00:00+00:00     9.0\n",
      "2023-01-01 04:00:00+00:00    10.0\n",
      "                             ... \n",
      "2023-04-14 19:00:00+00:00    12.0\n",
      "2023-04-14 20:00:00+00:00    12.0\n",
      "2023-04-14 21:00:00+00:00    12.0\n",
      "2023-04-14 22:00:00+00:00    12.0\n",
      "2023-04-14 23:00:00+00:00    11.0\n",
      "Name: Concentration, Length: 2377, dtype: float64\n"
     ]
    }
   ],
   "source": [
    "print(y_train)"
   ]
  },
  {
   "cell_type": "code",
   "execution_count": 35,
   "id": "4fe0711f",
   "metadata": {},
   "outputs": [
    {
     "name": "stdout",
     "output_type": "stream",
     "text": [
      "RMSE_base: 1.712239675361587 MAE_base: 1.0225210084033614 MAPE_base 0.07348841303464453\n"
     ]
    }
   ],
   "source": [
    "#Baseline model creation (Evaluation metrics: RMSE, MAE)\n",
    "Baseline_pred=[data['Concentration'][i] if i==0 else data['Concentration'][i-1] if i==1 else data['Concentration'][i-2]\n",
    "                                for i in range(len(data))]\n",
    "data_base=data['Concentration']\n",
    "rmse_base=np.sqrt(mean_squared_error(data_base,Baseline_pred))\n",
    "mae_base=mean_absolute_error(data_base,Baseline_pred)\n",
    "mape_base=mean_absolute_percentage_error(data_base,Baseline_pred)\n",
    "print(\"RMSE_base:\",rmse_base, \"MAE_base:\",mae_base,\"MAPE_base\",mape_base)"
   ]
  },
  {
   "cell_type": "code",
   "execution_count": 36,
   "id": "36602a91",
   "metadata": {},
   "outputs": [
    {
     "name": "stdout",
     "output_type": "stream",
     "text": [
      "[0]\tvalidation_0-rmse:12.84810\tvalidation_1-rmse:11.63814\n",
      "[100]\tvalidation_0-rmse:4.96235\tvalidation_1-rmse:4.16845\n",
      "[200]\tvalidation_0-rmse:2.26389\tvalidation_1-rmse:1.55039\n",
      "[300]\tvalidation_0-rmse:1.45729\tvalidation_1-rmse:0.90515\n",
      "[400]\tvalidation_0-rmse:1.20519\tvalidation_1-rmse:0.90277\n",
      "[500]\tvalidation_0-rmse:1.10312\tvalidation_1-rmse:0.94510\n",
      "[600]\tvalidation_0-rmse:1.04077\tvalidation_1-rmse:0.96816\n",
      "[700]\tvalidation_0-rmse:0.98213\tvalidation_1-rmse:0.99443\n",
      "[800]\tvalidation_0-rmse:0.94264\tvalidation_1-rmse:1.02462\n",
      "[900]\tvalidation_0-rmse:0.89545\tvalidation_1-rmse:1.05617\n",
      "[999]\tvalidation_0-rmse:0.85623\tvalidation_1-rmse:1.11663\n"
     ]
    },
    {
     "data": {
      "text/plain": [
       "XGBRegressor(base_score=None, booster=None, callbacks=None,\n",
       "             colsample_bylevel=None, colsample_bynode=None,\n",
       "             colsample_bytree=None, early_stopping_rounds=None,\n",
       "             enable_categorical=False, eval_metric=None, feature_types=None,\n",
       "             gamma=None, gpu_id=None, grow_policy=None, importance_type=None,\n",
       "             interaction_constraints=None, learning_rate=0.01, max_bin=None,\n",
       "             max_cat_threshold=None, max_cat_to_onehot=None,\n",
       "             max_delta_step=None, max_depth=None, max_leaves=None,\n",
       "             min_child_weight=None, missing=nan, monotone_constraints=None,\n",
       "             n_estimators=1000, n_jobs=None, num_parallel_tree=None,\n",
       "             predictor=None, random_state=None, ...)"
      ]
     },
     "execution_count": 36,
     "metadata": {},
     "output_type": "execute_result"
    }
   ],
   "source": [
    "#Creating the model\n",
    "model=xgb.XGBRegressor(n_estimators=1000,learning_rate=0.01)\n",
    "model.fit(X_train,y_train,eval_set=[(X_train,y_train),(X_test,y_test)],verbose=100)"
   ]
  },
  {
   "cell_type": "code",
   "execution_count": 37,
   "id": "b0120558",
   "metadata": {},
   "outputs": [],
   "source": [
    "x=data[['seg_hour', 'day', 'month', 'weekday',\n",
    "       'year','weekend', 'day/night','prev_2hours',\n",
    "       'prev_two_hours_mean', 'prev_two_hours_min', 'prev_two_hours_max',\n",
    "       'prev_three_hours_mean', 'prev_three_hours_min',\n",
    "       'prev_three_hours_max']]"
   ]
  },
  {
   "cell_type": "code",
   "execution_count": 38,
   "id": "05efa914",
   "metadata": {},
   "outputs": [
    {
     "data": {
      "image/png": "[encoded data removed]",
      "text/plain": [
       "<Figure size 432x288 with 1 Axes>"
      ]
     },
     "metadata": {
      "needs_background": "light"
     },
     "output_type": "display_data"
    }
   ],
   "source": [
    "fi=pd.DataFrame(data=model.feature_importances_,index=x.columns,columns=['importance'])\n",
    "fi.sort_values('importance').plot(kind='barh',title='Feature')\n",
    "plt.show()"
   ]
  },
  {
   "cell_type": "code",
   "execution_count": 39,
   "id": "a9c42589",
   "metadata": {},
   "outputs": [],
   "source": [
    "y_pred_train=model.predict(X_train).round()\n",
    "y_pred_test=model.predict(X_test).round()"
   ]
  },
  {
   "cell_type": "code",
   "execution_count": 40,
   "id": "e532c966",
   "metadata": {},
   "outputs": [
    {
     "data": {
      "text/plain": [
       "0.5267143458140513"
      ]
     },
     "execution_count": 40,
     "metadata": {},
     "output_type": "execute_result"
    }
   ],
   "source": [
    "mae_train=mean_absolute_error(y_train,y_pred_train)\n",
    "mae_train"
   ]
  },
  {
   "cell_type": "code",
   "execution_count": 41,
   "id": "60aba07c",
   "metadata": {
    "scrolled": false
   },
   "outputs": [
    {
     "data": {
      "text/plain": [
       "0.8461538461538461"
      ]
     },
     "execution_count": 41,
     "metadata": {},
     "output_type": "execute_result"
    }
   ],
   "source": [
    "mae_test=mean_absolute_error(y_test,y_pred_test)\n",
    "mae_test"
   ]
  },
  {
   "cell_type": "code",
   "execution_count": 42,
   "id": "0f446c8e",
   "metadata": {},
   "outputs": [
    {
     "data": {
      "text/plain": [
       "0.8949914390999857"
      ]
     },
     "execution_count": 42,
     "metadata": {},
     "output_type": "execute_result"
    }
   ],
   "source": [
    "rmse_train=np.sqrt(mean_squared_error(y_train,y_pred_train))\n",
    "rmse_train"
   ]
  },
  {
   "cell_type": "code",
   "execution_count": 43,
   "id": "69fe293b",
   "metadata": {},
   "outputs": [
    {
     "data": {
      "text/plain": [
       "1.1823676716811862"
      ]
     },
     "execution_count": 43,
     "metadata": {},
     "output_type": "execute_result"
    }
   ],
   "source": [
    "rmse_test=np.sqrt(mean_squared_error(y_test,y_pred_test))\n",
    "rmse_test"
   ]
  },
  {
   "cell_type": "code",
   "execution_count": 44,
   "id": "9783ace0",
   "metadata": {},
   "outputs": [
    {
     "data": {
      "text/plain": [
       "count    2975.000000\n",
       "mean       12.968067\n",
       "std         2.618282\n",
       "min         8.000000\n",
       "25%        11.000000\n",
       "50%        13.000000\n",
       "75%        14.000000\n",
       "max        21.000000\n",
       "Name: Concentration, dtype: float64"
      ]
     },
     "execution_count": 44,
     "metadata": {},
     "output_type": "execute_result"
    }
   ],
   "source": [
    "data['Concentration'].describe()"
   ]
  },
  {
   "cell_type": "code",
   "execution_count": 45,
   "id": "91efc5c1",
   "metadata": {},
   "outputs": [],
   "source": [
    "best=model\n",
    "\n",
    "explainer = shap.TreeExplainer(best)"
   ]
  },
  {
   "cell_type": "code",
   "execution_count": 46,
   "id": "0f46cdfa",
   "metadata": {},
   "outputs": [
    {
     "name": "stderr",
     "output_type": "stream",
     "text": [
      "Permutation explainer: 599it [02:05,  4.35it/s]                         \n"
     ]
    }
   ],
   "source": [
    "# Fits the explainer\n",
    "explainer = shap.Explainer(model.predict, X_test)\n",
    "# Calculates the SHAP values - It takes some time\n",
    "shap_values = explainer(X_test)\n"
   ]
  },
  {
   "cell_type": "code",
   "execution_count": 47,
   "id": "2fbfc0b7",
   "metadata": {},
   "outputs": [
    {
     "data": {
      "image/png": "[encoded data removed]",
      "text/plain": [
       "<Figure size 576x511.2 with 2 Axes>"
      ]
     },
     "metadata": {},
     "output_type": "display_data"
    }
   ],
   "source": [
    "#Shap values Plot\n",
    "sns.set_style(\"white\")\n",
    "shap.summary_plot(shap_values)"
   ]
  },
  {
   "cell_type": "code",
   "execution_count": 48,
   "id": "f68fe18b",
   "metadata": {
    "scrolled": true
   },
   "outputs": [],
   "source": [
    "saved_model_path = '/Users/mariatsiompra/Documents/master/diplwmatiki/Forecasting/saved_model/so2_model.sav'\n",
    "os.makedirs(os.path.dirname(saved_model_path), exist_ok=True)\n",
    "pickle.dump(model, open(saved_model_path, 'wb'))"
   ]
  },
  {
   "cell_type": "code",
   "execution_count": null,
   "id": "80679f0b",
   "metadata": {},
   "outputs": [],
   "source": [
    "# Load saved model \n",
    "\n",
    "# loaded_model = pickle.load(open(saved_model_path, 'rb'))"
   ]
  },
  {
   "cell_type": "code",
   "execution_count": null,
   "id": "5a2f658d",
   "metadata": {},
   "outputs": [],
   "source": []
  }
 ],
 "metadata": {
  "kernelspec": {
   "display_name": "Python 3",
   "language": "python",
   "name": "python3"
  },
  "language_info": {
   "codemirror_mode": {
    "name": "ipython",
    "version": 3
   },
   "file_extension": ".py",
   "mimetype": "text/x-python",
   "name": "python",
   "nbconvert_exporter": "python",
   "pygments_lexer": "ipython3",
   "version": "3.8.8"
  }
 },
 "nbformat": 4,
 "nbformat_minor": 5
}
